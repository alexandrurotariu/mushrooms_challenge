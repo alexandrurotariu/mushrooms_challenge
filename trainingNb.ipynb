{
 "metadata": {
  "language_info": {
   "codemirror_mode": {
    "name": "ipython",
    "version": 3
   },
   "file_extension": ".py",
   "mimetype": "text/x-python",
   "name": "python",
   "nbconvert_exporter": "python",
   "pygments_lexer": "ipython3",
   "version": "3.9.2"
  },
  "orig_nbformat": 2,
  "kernelspec": {
   "name": "python392jvsc74a57bd0d362f0ee3d5afa077a57ec1be67ce13277cc81209b993aa96a8631d1510698c4",
   "display_name": "Python 3.9.2 64-bit"
  },
  "metadata": {
   "interpreter": {
    "hash": "d362f0ee3d5afa077a57ec1be67ce13277cc81209b993aa96a8631d1510698c4"
   }
  }
 },
 "nbformat": 4,
 "nbformat_minor": 2,
 "cells": [
  {
   "source": [
    "# Challenge NOTEBOOK DI TRAINING"
   ],
   "cell_type": "markdown",
   "metadata": {}
  },
  {
   "source": [
    "### Import"
   ],
   "cell_type": "markdown",
   "metadata": {}
  },
  {
   "cell_type": "code",
   "execution_count": 148,
   "metadata": {},
   "outputs": [],
   "source": [
    "import pandas as pd\n",
    "\n",
    "#Importo trai e test set\n",
    "train_raw = pd.read_csv(\"./train.csv\")\n",
    "test_raw = pd.read_csv(\"./test.csv\")\n"
   ]
  },
  {
   "source": [
    "### Trasformazione dei dati"
   ],
   "cell_type": "markdown",
   "metadata": {}
  },
  {
   "cell_type": "code",
   "execution_count": 149,
   "metadata": {},
   "outputs": [],
   "source": [
    "# Trasformo i valori da lettere a numeri\n",
    "from sklearn.preprocessing import LabelEncoder\n",
    "le = LabelEncoder()\n",
    "\n",
    "for i in train_raw.columns:\n",
    "    train_raw[i] = le.fit_transform(train_raw[i])\n",
    "\n",
    "for i in test_raw.columns:\n",
    "    test_raw[i] = le.fit_transform(test_raw[i])"
   ]
  },
  {
   "cell_type": "code",
   "execution_count": 150,
   "metadata": {},
   "outputs": [],
   "source": [
    "# Normalizzo nell'intervallo [0,1]\n",
    "from sklearn.preprocessing import MinMaxScaler\n",
    "scaler = MinMaxScaler()\n",
    "\n",
    "names = train_raw.columns # nomi di tutte le colonne\n",
    "train_new = scaler.fit_transform(train_raw)\n",
    "train = pd.DataFrame(train_new, columns=names)\n",
    "\n",
    "names = test_raw.columns # nomi di tutte le colonne\n",
    "test_new = scaler.fit_transform(test_raw)\n",
    "test = pd.DataFrame(test_new, columns=names)"
   ]
  },
  {
   "cell_type": "code",
   "execution_count": 151,
   "metadata": {},
   "outputs": [
    {
     "output_type": "execute_result",
     "data": {
      "text/plain": [
       "      class  cap-shape  cap-surface  cap-color  bruises  odor  \\\n",
       "4200    1.0        0.4     0.666667   0.222222      0.0  1.00   \n",
       "3362    1.0        1.0     0.000000   0.333333      0.0  0.25   \n",
       "3324    1.0        1.0     0.666667   0.444444      1.0  0.75   \n",
       "69      0.0        0.0     0.666667   1.000000      1.0  0.00   \n",
       "1263    1.0        0.4     1.000000   0.333333      0.0  0.25   \n",
       "\n",
       "      gill-attachment  gill-spacing  gill-size  gill-color  ...  \\\n",
       "4200              1.0           0.0        1.0    0.000000  ...   \n",
       "3362              1.0           0.0        0.0    0.636364  ...   \n",
       "3324              1.0           0.0        1.0    0.636364  ...   \n",
       "69                1.0           0.0        0.0    0.363636  ...   \n",
       "1263              1.0           0.0        0.0    0.181818  ...   \n",
       "\n",
       "      stalk-surface-below-ring  stalk-color-above-ring  \\\n",
       "4200                  0.333333                   0.875   \n",
       "3362                  0.333333                   0.000   \n",
       "3324                  0.666667                   0.875   \n",
       "69                    0.666667                   0.875   \n",
       "1263                  0.333333                   0.000   \n",
       "\n",
       "      stalk-color-below-ring  veil-type  veil-color  ring-number  ring-type  \\\n",
       "4200                   0.875        0.0    0.666667          0.5        0.0   \n",
       "3362                   0.000        0.0    0.666667          0.5        0.5   \n",
       "3324                   0.875        0.0    0.666667          0.5        1.0   \n",
       "69                     0.875        0.0    0.666667          0.5        1.0   \n",
       "1263                   0.500        0.0    0.666667          0.5        0.5   \n",
       "\n",
       "      spore-print-color  population   habitat  \n",
       "4200              0.875         0.8  0.000000  \n",
       "3362              0.125         1.0  0.166667  \n",
       "3324              0.250         0.8  0.166667  \n",
       "69                0.250         0.4  0.166667  \n",
       "1263              0.125         1.0  0.166667  \n",
       "\n",
       "[5 rows x 23 columns]"
      ],
      "text/html": "<div>\n<style scoped>\n    .dataframe tbody tr th:only-of-type {\n        vertical-align: middle;\n    }\n\n    .dataframe tbody tr th {\n        vertical-align: top;\n    }\n\n    .dataframe thead th {\n        text-align: right;\n    }\n</style>\n<table border=\"1\" class=\"dataframe\">\n  <thead>\n    <tr style=\"text-align: right;\">\n      <th></th>\n      <th>class</th>\n      <th>cap-shape</th>\n      <th>cap-surface</th>\n      <th>cap-color</th>\n      <th>bruises</th>\n      <th>odor</th>\n      <th>gill-attachment</th>\n      <th>gill-spacing</th>\n      <th>gill-size</th>\n      <th>gill-color</th>\n      <th>...</th>\n      <th>stalk-surface-below-ring</th>\n      <th>stalk-color-above-ring</th>\n      <th>stalk-color-below-ring</th>\n      <th>veil-type</th>\n      <th>veil-color</th>\n      <th>ring-number</th>\n      <th>ring-type</th>\n      <th>spore-print-color</th>\n      <th>population</th>\n      <th>habitat</th>\n    </tr>\n  </thead>\n  <tbody>\n    <tr>\n      <th>4200</th>\n      <td>1.0</td>\n      <td>0.4</td>\n      <td>0.666667</td>\n      <td>0.222222</td>\n      <td>0.0</td>\n      <td>1.00</td>\n      <td>1.0</td>\n      <td>0.0</td>\n      <td>1.0</td>\n      <td>0.000000</td>\n      <td>...</td>\n      <td>0.333333</td>\n      <td>0.875</td>\n      <td>0.875</td>\n      <td>0.0</td>\n      <td>0.666667</td>\n      <td>0.5</td>\n      <td>0.0</td>\n      <td>0.875</td>\n      <td>0.8</td>\n      <td>0.000000</td>\n    </tr>\n    <tr>\n      <th>3362</th>\n      <td>1.0</td>\n      <td>1.0</td>\n      <td>0.000000</td>\n      <td>0.333333</td>\n      <td>0.0</td>\n      <td>0.25</td>\n      <td>1.0</td>\n      <td>0.0</td>\n      <td>0.0</td>\n      <td>0.636364</td>\n      <td>...</td>\n      <td>0.333333</td>\n      <td>0.000</td>\n      <td>0.000</td>\n      <td>0.0</td>\n      <td>0.666667</td>\n      <td>0.5</td>\n      <td>0.5</td>\n      <td>0.125</td>\n      <td>1.0</td>\n      <td>0.166667</td>\n    </tr>\n    <tr>\n      <th>3324</th>\n      <td>1.0</td>\n      <td>1.0</td>\n      <td>0.666667</td>\n      <td>0.444444</td>\n      <td>1.0</td>\n      <td>0.75</td>\n      <td>1.0</td>\n      <td>0.0</td>\n      <td>1.0</td>\n      <td>0.636364</td>\n      <td>...</td>\n      <td>0.666667</td>\n      <td>0.875</td>\n      <td>0.875</td>\n      <td>0.0</td>\n      <td>0.666667</td>\n      <td>0.5</td>\n      <td>1.0</td>\n      <td>0.250</td>\n      <td>0.8</td>\n      <td>0.166667</td>\n    </tr>\n    <tr>\n      <th>69</th>\n      <td>0.0</td>\n      <td>0.0</td>\n      <td>0.666667</td>\n      <td>1.000000</td>\n      <td>1.0</td>\n      <td>0.00</td>\n      <td>1.0</td>\n      <td>0.0</td>\n      <td>0.0</td>\n      <td>0.363636</td>\n      <td>...</td>\n      <td>0.666667</td>\n      <td>0.875</td>\n      <td>0.875</td>\n      <td>0.0</td>\n      <td>0.666667</td>\n      <td>0.5</td>\n      <td>1.0</td>\n      <td>0.250</td>\n      <td>0.4</td>\n      <td>0.166667</td>\n    </tr>\n    <tr>\n      <th>1263</th>\n      <td>1.0</td>\n      <td>0.4</td>\n      <td>1.000000</td>\n      <td>0.333333</td>\n      <td>0.0</td>\n      <td>0.25</td>\n      <td>1.0</td>\n      <td>0.0</td>\n      <td>0.0</td>\n      <td>0.181818</td>\n      <td>...</td>\n      <td>0.333333</td>\n      <td>0.000</td>\n      <td>0.500</td>\n      <td>0.0</td>\n      <td>0.666667</td>\n      <td>0.5</td>\n      <td>0.5</td>\n      <td>0.125</td>\n      <td>1.0</td>\n      <td>0.166667</td>\n    </tr>\n  </tbody>\n</table>\n<p>5 rows × 23 columns</p>\n</div>"
     },
     "metadata": {},
     "execution_count": 151
    }
   ],
   "source": [
    "train.sample(5)"
   ]
  },
  {
   "cell_type": "code",
   "execution_count": 152,
   "metadata": {},
   "outputs": [
    {
     "output_type": "execute_result",
     "data": {
      "text/plain": [
       "      class  cap-shape  cap-surface  cap-color  bruises   odor  \\\n",
       "966     1.0        1.0          0.0   0.333333      0.0  0.250   \n",
       "432     0.0        0.0          0.5   0.888889      1.0  0.000   \n",
       "746     1.0        0.4          1.0   0.444444      0.0  1.000   \n",
       "1455    1.0        1.0          0.5   0.222222      0.0  0.250   \n",
       "120     0.0        1.0          0.0   0.222222      1.0  0.625   \n",
       "\n",
       "      gill-attachment  gill-spacing  gill-size  gill-color  ...  \\\n",
       "966               1.0           0.0        0.0    0.181818  ...   \n",
       "432               1.0           0.0        0.0    0.363636  ...   \n",
       "746               1.0           0.0        1.0    0.000000  ...   \n",
       "1455              1.0           0.0        1.0    0.000000  ...   \n",
       "120               1.0           0.0        0.0    0.454545  ...   \n",
       "\n",
       "      stalk-surface-below-ring  stalk-color-above-ring  \\\n",
       "966                   0.333333                   0.000   \n",
       "432                   0.666667                   0.875   \n",
       "746                   0.333333                   0.750   \n",
       "1455                  0.666667                   0.750   \n",
       "120                   0.666667                   0.875   \n",
       "\n",
       "      stalk-color-below-ring  veil-type  veil-color  ring-number  ring-type  \\\n",
       "966                    0.750        0.0    0.666667          0.5        0.5   \n",
       "432                    0.875        0.0    0.666667          0.5        1.0   \n",
       "746                    0.875        0.0    0.666667          0.5        0.0   \n",
       "1455                   0.750        0.0    0.666667          0.5        0.0   \n",
       "120                    0.750        0.0    0.666667          0.5        1.0   \n",
       "\n",
       "      spore-print-color  population   habitat  \n",
       "966               0.125         1.0  0.666667  \n",
       "432               0.375         0.4  0.500000  \n",
       "746               0.875         0.8  0.333333  \n",
       "1455              0.875         0.8  0.333333  \n",
       "120               0.250         1.0  0.000000  \n",
       "\n",
       "[5 rows x 23 columns]"
      ],
      "text/html": "<div>\n<style scoped>\n    .dataframe tbody tr th:only-of-type {\n        vertical-align: middle;\n    }\n\n    .dataframe tbody tr th {\n        vertical-align: top;\n    }\n\n    .dataframe thead th {\n        text-align: right;\n    }\n</style>\n<table border=\"1\" class=\"dataframe\">\n  <thead>\n    <tr style=\"text-align: right;\">\n      <th></th>\n      <th>class</th>\n      <th>cap-shape</th>\n      <th>cap-surface</th>\n      <th>cap-color</th>\n      <th>bruises</th>\n      <th>odor</th>\n      <th>gill-attachment</th>\n      <th>gill-spacing</th>\n      <th>gill-size</th>\n      <th>gill-color</th>\n      <th>...</th>\n      <th>stalk-surface-below-ring</th>\n      <th>stalk-color-above-ring</th>\n      <th>stalk-color-below-ring</th>\n      <th>veil-type</th>\n      <th>veil-color</th>\n      <th>ring-number</th>\n      <th>ring-type</th>\n      <th>spore-print-color</th>\n      <th>population</th>\n      <th>habitat</th>\n    </tr>\n  </thead>\n  <tbody>\n    <tr>\n      <th>966</th>\n      <td>1.0</td>\n      <td>1.0</td>\n      <td>0.0</td>\n      <td>0.333333</td>\n      <td>0.0</td>\n      <td>0.250</td>\n      <td>1.0</td>\n      <td>0.0</td>\n      <td>0.0</td>\n      <td>0.181818</td>\n      <td>...</td>\n      <td>0.333333</td>\n      <td>0.000</td>\n      <td>0.750</td>\n      <td>0.0</td>\n      <td>0.666667</td>\n      <td>0.5</td>\n      <td>0.5</td>\n      <td>0.125</td>\n      <td>1.0</td>\n      <td>0.666667</td>\n    </tr>\n    <tr>\n      <th>432</th>\n      <td>0.0</td>\n      <td>0.0</td>\n      <td>0.5</td>\n      <td>0.888889</td>\n      <td>1.0</td>\n      <td>0.000</td>\n      <td>1.0</td>\n      <td>0.0</td>\n      <td>0.0</td>\n      <td>0.363636</td>\n      <td>...</td>\n      <td>0.666667</td>\n      <td>0.875</td>\n      <td>0.875</td>\n      <td>0.0</td>\n      <td>0.666667</td>\n      <td>0.5</td>\n      <td>1.0</td>\n      <td>0.375</td>\n      <td>0.4</td>\n      <td>0.500000</td>\n    </tr>\n    <tr>\n      <th>746</th>\n      <td>1.0</td>\n      <td>0.4</td>\n      <td>1.0</td>\n      <td>0.444444</td>\n      <td>0.0</td>\n      <td>1.000</td>\n      <td>1.0</td>\n      <td>0.0</td>\n      <td>1.0</td>\n      <td>0.000000</td>\n      <td>...</td>\n      <td>0.333333</td>\n      <td>0.750</td>\n      <td>0.875</td>\n      <td>0.0</td>\n      <td>0.666667</td>\n      <td>0.5</td>\n      <td>0.0</td>\n      <td>0.875</td>\n      <td>0.8</td>\n      <td>0.333333</td>\n    </tr>\n    <tr>\n      <th>1455</th>\n      <td>1.0</td>\n      <td>1.0</td>\n      <td>0.5</td>\n      <td>0.222222</td>\n      <td>0.0</td>\n      <td>0.250</td>\n      <td>1.0</td>\n      <td>0.0</td>\n      <td>1.0</td>\n      <td>0.000000</td>\n      <td>...</td>\n      <td>0.666667</td>\n      <td>0.750</td>\n      <td>0.750</td>\n      <td>0.0</td>\n      <td>0.666667</td>\n      <td>0.5</td>\n      <td>0.0</td>\n      <td>0.875</td>\n      <td>0.8</td>\n      <td>0.333333</td>\n    </tr>\n    <tr>\n      <th>120</th>\n      <td>0.0</td>\n      <td>1.0</td>\n      <td>0.0</td>\n      <td>0.222222</td>\n      <td>1.0</td>\n      <td>0.625</td>\n      <td>1.0</td>\n      <td>0.0</td>\n      <td>0.0</td>\n      <td>0.454545</td>\n      <td>...</td>\n      <td>0.666667</td>\n      <td>0.875</td>\n      <td>0.750</td>\n      <td>0.0</td>\n      <td>0.666667</td>\n      <td>0.5</td>\n      <td>1.0</td>\n      <td>0.250</td>\n      <td>1.0</td>\n      <td>0.000000</td>\n    </tr>\n  </tbody>\n</table>\n<p>5 rows × 23 columns</p>\n</div>"
     },
     "metadata": {},
     "execution_count": 152
    }
   ],
   "source": [
    "test.sample(5)"
   ]
  },
  {
   "source": [
    "### Addestramento"
   ],
   "cell_type": "markdown",
   "metadata": {}
  },
  {
   "cell_type": "code",
   "execution_count": 183,
   "metadata": {},
   "outputs": [],
   "source": [
    "x_train = train.drop([\"class\"], axis=1)\n",
    "y_train = train[\"class\"]\n",
    "\n",
    "x_test = test.drop([\"class\"], axis=1)\n",
    "y_test = test[\"class\"]"
   ]
  },
  {
   "cell_type": "code",
   "execution_count": 190,
   "metadata": {},
   "outputs": [
    {
     "output_type": "stream",
     "name": "stdout",
     "text": [
      "Accuracy on test set: 1.000\n"
     ]
    }
   ],
   "source": [
    "from sklearn.tree import DecisionTreeClassifier\n",
    "tree = DecisionTreeClassifier(criterion = 'entropy')\n",
    "tree.fit(x_train, y_train)\n",
    "\n",
    "print(\"Accuracy on test set: {:.3f}\".format(tree.score(x_test, y_test)))"
   ]
  },
  {
   "cell_type": "code",
   "execution_count": null,
   "metadata": {},
   "outputs": [],
   "source": []
  }
 ]
}