{
 "metadata": {
  "language_info": {
   "codemirror_mode": {
    "name": "ipython",
    "version": 3
   },
   "file_extension": ".py",
   "mimetype": "text/x-python",
   "name": "python",
   "nbconvert_exporter": "python",
   "pygments_lexer": "ipython3",
   "version": "3.9.2"
  },
  "orig_nbformat": 2,
  "kernelspec": {
   "name": "python392jvsc74a57bd0d362f0ee3d5afa077a57ec1be67ce13277cc81209b993aa96a8631d1510698c4",
   "display_name": "Python 3.9.2 64-bit"
  },
  "metadata": {
   "interpreter": {
    "hash": "d362f0ee3d5afa077a57ec1be67ce13277cc81209b993aa96a8631d1510698c4"
   }
  }
 },
 "nbformat": 4,
 "nbformat_minor": 2,
 "cells": [
  {
   "source": [
    "# Challenge NOTEBOOK DI TRAINING"
   ],
   "cell_type": "markdown",
   "metadata": {}
  },
  {
   "cell_type": "code",
   "execution_count": 2,
   "metadata": {},
   "outputs": [
    {
     "output_type": "stream",
     "name": "stdout",
     "text": [
      "Requirement already satisfied: pandas in c:\\users\\alexr\\appdata\\local\\programs\\python\\python39\\lib\\site-packages (from -r requirements.txt (line 1)) (1.2.3)\nRequirement already satisfied: scikit-learn in c:\\users\\alexr\\appdata\\local\\programs\\python\\python39\\lib\\site-packages (from -r requirements.txt (line 2)) (0.24.2)\nRequirement already satisfied: numpy>=1.16.5 in c:\\users\\alexr\\appdata\\local\\programs\\python\\python39\\lib\\site-packages (from pandas->-r requirements.txt (line 1)) (1.20.2)\nRequirement already satisfied: python-dateutil>=2.7.3 in c:\\users\\alexr\\appdata\\local\\programs\\python\\python39\\lib\\site-packages (from pandas->-r requirements.txt (line 1)) (2.8.1)\nRequirement already satisfied: pytz>=2017.3 in c:\\users\\alexr\\appdata\\local\\programs\\python\\python39\\lib\\site-packages (from pandas->-r requirements.txt (line 1)) (2021.1)\nRequirement already satisfied: six>=1.5 in c:\\users\\alexr\\appdata\\local\\programs\\python\\python39\\lib\\site-packages (from python-dateutil>=2.7.3->pandas->-r requirements.txt (line 1)) (1.15.0)\nRequirement already satisfied: joblib>=0.11 in c:\\users\\alexr\\appdata\\local\\programs\\python\\python39\\lib\\site-packages (from scikit-learn->-r requirements.txt (line 2)) (1.0.1)\nRequirement already satisfied: scipy>=0.19.1 in c:\\users\\alexr\\appdata\\local\\programs\\python\\python39\\lib\\site-packages (from scikit-learn->-r requirements.txt (line 2)) (1.6.2)\nRequirement already satisfied: threadpoolctl>=2.0.0 in c:\\users\\alexr\\appdata\\local\\programs\\python\\python39\\lib\\site-packages (from scikit-learn->-r requirements.txt (line 2)) (2.1.0)\n"
     ]
    }
   ],
   "source": [
    "!pip install -r requirements.txt"
   ]
  },
  {
   "source": [
    "### Import"
   ],
   "cell_type": "markdown",
   "metadata": {}
  },
  {
   "cell_type": "code",
   "execution_count": 1,
   "metadata": {
    "tags": []
   },
   "outputs": [],
   "source": [
    "import pandas as pd\n",
    "\n",
    "#Importo test e test set\n",
    "train_raw = pd.read_csv(\"./train.csv\")\n",
    "test_raw = pd.read_csv(\"./test.csv\")"
   ]
  },
  {
   "source": [
    "### Ricerca valori mancant"
   ],
   "cell_type": "markdown",
   "metadata": {}
  },
  {
   "cell_type": "code",
   "execution_count": 9,
   "metadata": {},
   "outputs": [
    {
     "output_type": "stream",
     "name": "stdout",
     "text": [
      "class                       0\ncap-shape                   0\ncap-surface                 0\ncap-color                   0\nbruises                     0\nodor                        0\ngill-attachment             0\ngill-spacing                0\ngill-size                   0\ngill-color                  0\nstalk-shape                 0\nstalk-root                  0\nstalk-surface-above-ring    0\nstalk-surface-below-ring    0\nstalk-color-above-ring      0\nstalk-color-below-ring      0\nveil-type                   0\nveil-color                  0\nring-number                 0\nring-type                   0\nspore-print-color           0\npopulation                  0\nhabitat                     0\ndtype: int64\nclass                       0\ncap-shape                   0\ncap-surface                 0\ncap-color                   0\nbruises                     0\nodor                        0\ngill-attachment             0\ngill-spacing                0\ngill-size                   0\ngill-color                  0\nstalk-shape                 0\nstalk-root                  0\nstalk-surface-above-ring    0\nstalk-surface-below-ring    0\nstalk-color-above-ring      0\nstalk-color-below-ring      0\nveil-type                   0\nveil-color                  0\nring-number                 0\nring-type                   0\nspore-print-color           0\npopulation                  0\nhabitat                     0\ndtype: int64\n"
     ]
    }
   ],
   "source": [
    "missing_train = train_raw.isnull().sum()\n",
    "print(missing_train)\n"
   ]
  },
  {
   "cell_type": "code",
   "execution_count": 10,
   "metadata": {},
   "outputs": [
    {
     "output_type": "stream",
     "name": "stdout",
     "text": [
      "class                       0\ncap-shape                   0\ncap-surface                 0\ncap-color                   0\nbruises                     0\nodor                        0\ngill-attachment             0\ngill-spacing                0\ngill-size                   0\ngill-color                  0\nstalk-shape                 0\nstalk-root                  0\nstalk-surface-above-ring    0\nstalk-surface-below-ring    0\nstalk-color-above-ring      0\nstalk-color-below-ring      0\nveil-type                   0\nveil-color                  0\nring-number                 0\nring-type                   0\nspore-print-color           0\npopulation                  0\nhabitat                     0\ndtype: int64\n"
     ]
    }
   ],
   "source": [
    "missing_test = test_raw.isnull().sum()\n",
    "print(missing_test)"
   ]
  },
  {
   "source": [
    "### Trasformazione dei dati"
   ],
   "cell_type": "markdown",
   "metadata": {}
  },
  {
   "cell_type": "code",
   "execution_count": 193,
   "metadata": {},
   "outputs": [],
   "source": [
    "# Trasformo i valori da lettere a numeri\n",
    "from sklearn.preprocessing import LabelEncoder\n",
    "le = LabelEncoder()\n",
    "\n",
    "for i in train_raw.columns:\n",
    "    train_raw[i] = le.fit_transform(train_raw[i])\n",
    "\n",
    "for i in test_raw.columns:\n",
    "    test_raw[i] = le.fit_transform(test_raw[i])"
   ]
  },
  {
   "cell_type": "code",
   "execution_count": 194,
   "metadata": {},
   "outputs": [],
   "source": [
    "# Normalizzo nell'intervallo [0,1]\n",
    "from sklearn.preprocessing import MinMaxScaler\n",
    "scaler = MinMaxScaler()\n",
    "\n",
    "names = train_raw.columns # nomi di tutte le colonne\n",
    "train_new = scaler.fit_transform(train_raw)\n",
    "train = pd.DataFrame(train_new, columns=names)\n",
    "\n",
    "names = test_raw.columns # nomi di tutte le colonne\n",
    "test_new = scaler.fit_transform(test_raw)\n",
    "test = pd.DataFrame(test_new, columns=names)"
   ]
  },
  {
   "cell_type": "code",
   "execution_count": 195,
   "metadata": {},
   "outputs": [
    {
     "output_type": "execute_result",
     "data": {
      "text/plain": [
       "      class  cap-shape  cap-surface  cap-color  bruises   odor  \\\n",
       "3609    1.0        1.0     0.000000   1.000000      0.0  0.250   \n",
       "4787    1.0        0.6     1.000000   0.444444      0.0  0.875   \n",
       "2749    1.0        1.0     1.000000   0.444444      1.0  0.750   \n",
       "2084    0.0        1.0     0.666667   1.000000      1.0  0.000   \n",
       "2431    0.0        0.4     1.000000   0.444444      1.0  0.625   \n",
       "\n",
       "      gill-attachment  gill-spacing  gill-size  gill-color  ...  \\\n",
       "3609              1.0           0.0        0.0    0.636364  ...   \n",
       "4787              1.0           0.0        1.0    0.000000  ...   \n",
       "2749              1.0           0.0        1.0    0.909091  ...   \n",
       "2084              1.0           0.0        0.0    0.909091  ...   \n",
       "2431              1.0           0.0        0.0    0.636364  ...   \n",
       "\n",
       "      stalk-surface-below-ring  stalk-color-above-ring  \\\n",
       "3609                  0.333333                   0.750   \n",
       "4787                  0.666667                   0.875   \n",
       "2749                  0.666667                   0.875   \n",
       "2084                  0.666667                   0.875   \n",
       "2431                  0.666667                   0.750   \n",
       "\n",
       "      stalk-color-below-ring  veil-type  veil-color  ring-number  ring-type  \\\n",
       "3609                   0.000        0.0    0.666667          0.5        0.5   \n",
       "4787                   0.875        0.0    0.666667          0.5        0.0   \n",
       "2749                   0.875        0.0    0.666667          0.5        1.0   \n",
       "2084                   0.875        0.0    0.666667          0.5        1.0   \n",
       "2431                   0.875        0.0    0.666667          0.5        1.0   \n",
       "\n",
       "      spore-print-color  population   habitat  \n",
       "3609              0.125         0.8  0.000000  \n",
       "4787              0.875         0.8  0.000000  \n",
       "2749              0.250         0.6  0.166667  \n",
       "2084              0.250         0.4  0.500000  \n",
       "2431              0.250         0.8  0.000000  \n",
       "\n",
       "[5 rows x 23 columns]"
      ],
      "text/html": "<div>\n<style scoped>\n    .dataframe tbody tr th:only-of-type {\n        vertical-align: middle;\n    }\n\n    .dataframe tbody tr th {\n        vertical-align: top;\n    }\n\n    .dataframe thead th {\n        text-align: right;\n    }\n</style>\n<table border=\"1\" class=\"dataframe\">\n  <thead>\n    <tr style=\"text-align: right;\">\n      <th></th>\n      <th>class</th>\n      <th>cap-shape</th>\n      <th>cap-surface</th>\n      <th>cap-color</th>\n      <th>bruises</th>\n      <th>odor</th>\n      <th>gill-attachment</th>\n      <th>gill-spacing</th>\n      <th>gill-size</th>\n      <th>gill-color</th>\n      <th>...</th>\n      <th>stalk-surface-below-ring</th>\n      <th>stalk-color-above-ring</th>\n      <th>stalk-color-below-ring</th>\n      <th>veil-type</th>\n      <th>veil-color</th>\n      <th>ring-number</th>\n      <th>ring-type</th>\n      <th>spore-print-color</th>\n      <th>population</th>\n      <th>habitat</th>\n    </tr>\n  </thead>\n  <tbody>\n    <tr>\n      <th>3609</th>\n      <td>1.0</td>\n      <td>1.0</td>\n      <td>0.000000</td>\n      <td>1.000000</td>\n      <td>0.0</td>\n      <td>0.250</td>\n      <td>1.0</td>\n      <td>0.0</td>\n      <td>0.0</td>\n      <td>0.636364</td>\n      <td>...</td>\n      <td>0.333333</td>\n      <td>0.750</td>\n      <td>0.000</td>\n      <td>0.0</td>\n      <td>0.666667</td>\n      <td>0.5</td>\n      <td>0.5</td>\n      <td>0.125</td>\n      <td>0.8</td>\n      <td>0.000000</td>\n    </tr>\n    <tr>\n      <th>4787</th>\n      <td>1.0</td>\n      <td>0.6</td>\n      <td>1.000000</td>\n      <td>0.444444</td>\n      <td>0.0</td>\n      <td>0.875</td>\n      <td>1.0</td>\n      <td>0.0</td>\n      <td>1.0</td>\n      <td>0.000000</td>\n      <td>...</td>\n      <td>0.666667</td>\n      <td>0.875</td>\n      <td>0.875</td>\n      <td>0.0</td>\n      <td>0.666667</td>\n      <td>0.5</td>\n      <td>0.0</td>\n      <td>0.875</td>\n      <td>0.8</td>\n      <td>0.000000</td>\n    </tr>\n    <tr>\n      <th>2749</th>\n      <td>1.0</td>\n      <td>1.0</td>\n      <td>1.000000</td>\n      <td>0.444444</td>\n      <td>1.0</td>\n      <td>0.750</td>\n      <td>1.0</td>\n      <td>0.0</td>\n      <td>1.0</td>\n      <td>0.909091</td>\n      <td>...</td>\n      <td>0.666667</td>\n      <td>0.875</td>\n      <td>0.875</td>\n      <td>0.0</td>\n      <td>0.666667</td>\n      <td>0.5</td>\n      <td>1.0</td>\n      <td>0.250</td>\n      <td>0.6</td>\n      <td>0.166667</td>\n    </tr>\n    <tr>\n      <th>2084</th>\n      <td>0.0</td>\n      <td>1.0</td>\n      <td>0.666667</td>\n      <td>1.000000</td>\n      <td>1.0</td>\n      <td>0.000</td>\n      <td>1.0</td>\n      <td>0.0</td>\n      <td>0.0</td>\n      <td>0.909091</td>\n      <td>...</td>\n      <td>0.666667</td>\n      <td>0.875</td>\n      <td>0.875</td>\n      <td>0.0</td>\n      <td>0.666667</td>\n      <td>0.5</td>\n      <td>1.0</td>\n      <td>0.250</td>\n      <td>0.4</td>\n      <td>0.500000</td>\n    </tr>\n    <tr>\n      <th>2431</th>\n      <td>0.0</td>\n      <td>0.4</td>\n      <td>1.000000</td>\n      <td>0.444444</td>\n      <td>1.0</td>\n      <td>0.625</td>\n      <td>1.0</td>\n      <td>0.0</td>\n      <td>0.0</td>\n      <td>0.636364</td>\n      <td>...</td>\n      <td>0.666667</td>\n      <td>0.750</td>\n      <td>0.875</td>\n      <td>0.0</td>\n      <td>0.666667</td>\n      <td>0.5</td>\n      <td>1.0</td>\n      <td>0.250</td>\n      <td>0.8</td>\n      <td>0.000000</td>\n    </tr>\n  </tbody>\n</table>\n<p>5 rows × 23 columns</p>\n</div>"
     },
     "metadata": {},
     "execution_count": 195
    }
   ],
   "source": [
    "train.sample(5)"
   ]
  },
  {
   "cell_type": "code",
   "execution_count": 196,
   "metadata": {},
   "outputs": [
    {
     "output_type": "execute_result",
     "data": {
      "text/plain": [
       "      class  cap-shape  cap-surface  cap-color  bruises   odor  \\\n",
       "1527    0.0        1.0          0.0   0.444444      1.0  0.625   \n",
       "1587    0.0        0.0          0.5   0.888889      1.0  0.000   \n",
       "662     0.0        0.4          0.5   0.888889      0.0  0.625   \n",
       "881     0.0        1.0          0.0   0.444444      1.0  0.625   \n",
       "412     1.0        0.6          1.0   0.222222      0.0  1.000   \n",
       "\n",
       "      gill-attachment  gill-spacing  gill-size  gill-color  ...  \\\n",
       "1527              1.0           0.0        0.0    0.909091  ...   \n",
       "1587              1.0           0.0        0.0    0.909091  ...   \n",
       "662               1.0           1.0        0.0    0.636364  ...   \n",
       "881               1.0           0.0        0.0    0.818182  ...   \n",
       "412               1.0           0.0        1.0    0.000000  ...   \n",
       "\n",
       "      stalk-surface-below-ring  stalk-color-above-ring  \\\n",
       "1527                  0.666667                   0.375   \n",
       "1587                  0.666667                   0.875   \n",
       "662                   0.666667                   0.875   \n",
       "881                   0.666667                   0.375   \n",
       "412                   0.666667                   0.875   \n",
       "\n",
       "      stalk-color-below-ring  veil-type  veil-color  ring-number  ring-type  \\\n",
       "1527                   0.750        0.0    0.666667          0.5        1.0   \n",
       "1587                   0.875        0.0    0.666667          0.5        1.0   \n",
       "662                    0.875        0.0    0.666667          0.5        0.0   \n",
       "881                    0.375        0.0    0.666667          0.5        1.0   \n",
       "412                    0.875        0.0    0.666667          0.5        0.0   \n",
       "\n",
       "      spore-print-color  population   habitat  \n",
       "1527              0.375         1.0  0.000000  \n",
       "1587              0.375         0.4  0.500000  \n",
       "662               0.375         0.6  0.166667  \n",
       "881               0.375         0.8  0.000000  \n",
       "412               0.875         0.8  0.333333  \n",
       "\n",
       "[5 rows x 23 columns]"
      ],
      "text/html": "<div>\n<style scoped>\n    .dataframe tbody tr th:only-of-type {\n        vertical-align: middle;\n    }\n\n    .dataframe tbody tr th {\n        vertical-align: top;\n    }\n\n    .dataframe thead th {\n        text-align: right;\n    }\n</style>\n<table border=\"1\" class=\"dataframe\">\n  <thead>\n    <tr style=\"text-align: right;\">\n      <th></th>\n      <th>class</th>\n      <th>cap-shape</th>\n      <th>cap-surface</th>\n      <th>cap-color</th>\n      <th>bruises</th>\n      <th>odor</th>\n      <th>gill-attachment</th>\n      <th>gill-spacing</th>\n      <th>gill-size</th>\n      <th>gill-color</th>\n      <th>...</th>\n      <th>stalk-surface-below-ring</th>\n      <th>stalk-color-above-ring</th>\n      <th>stalk-color-below-ring</th>\n      <th>veil-type</th>\n      <th>veil-color</th>\n      <th>ring-number</th>\n      <th>ring-type</th>\n      <th>spore-print-color</th>\n      <th>population</th>\n      <th>habitat</th>\n    </tr>\n  </thead>\n  <tbody>\n    <tr>\n      <th>1527</th>\n      <td>0.0</td>\n      <td>1.0</td>\n      <td>0.0</td>\n      <td>0.444444</td>\n      <td>1.0</td>\n      <td>0.625</td>\n      <td>1.0</td>\n      <td>0.0</td>\n      <td>0.0</td>\n      <td>0.909091</td>\n      <td>...</td>\n      <td>0.666667</td>\n      <td>0.375</td>\n      <td>0.750</td>\n      <td>0.0</td>\n      <td>0.666667</td>\n      <td>0.5</td>\n      <td>1.0</td>\n      <td>0.375</td>\n      <td>1.0</td>\n      <td>0.000000</td>\n    </tr>\n    <tr>\n      <th>1587</th>\n      <td>0.0</td>\n      <td>0.0</td>\n      <td>0.5</td>\n      <td>0.888889</td>\n      <td>1.0</td>\n      <td>0.000</td>\n      <td>1.0</td>\n      <td>0.0</td>\n      <td>0.0</td>\n      <td>0.909091</td>\n      <td>...</td>\n      <td>0.666667</td>\n      <td>0.875</td>\n      <td>0.875</td>\n      <td>0.0</td>\n      <td>0.666667</td>\n      <td>0.5</td>\n      <td>1.0</td>\n      <td>0.375</td>\n      <td>0.4</td>\n      <td>0.500000</td>\n    </tr>\n    <tr>\n      <th>662</th>\n      <td>0.0</td>\n      <td>0.4</td>\n      <td>0.5</td>\n      <td>0.888889</td>\n      <td>0.0</td>\n      <td>0.625</td>\n      <td>1.0</td>\n      <td>1.0</td>\n      <td>0.0</td>\n      <td>0.636364</td>\n      <td>...</td>\n      <td>0.666667</td>\n      <td>0.875</td>\n      <td>0.875</td>\n      <td>0.0</td>\n      <td>0.666667</td>\n      <td>0.5</td>\n      <td>0.0</td>\n      <td>0.375</td>\n      <td>0.6</td>\n      <td>0.166667</td>\n    </tr>\n    <tr>\n      <th>881</th>\n      <td>0.0</td>\n      <td>1.0</td>\n      <td>0.0</td>\n      <td>0.444444</td>\n      <td>1.0</td>\n      <td>0.625</td>\n      <td>1.0</td>\n      <td>0.0</td>\n      <td>0.0</td>\n      <td>0.818182</td>\n      <td>...</td>\n      <td>0.666667</td>\n      <td>0.375</td>\n      <td>0.375</td>\n      <td>0.0</td>\n      <td>0.666667</td>\n      <td>0.5</td>\n      <td>1.0</td>\n      <td>0.375</td>\n      <td>0.8</td>\n      <td>0.000000</td>\n    </tr>\n    <tr>\n      <th>412</th>\n      <td>1.0</td>\n      <td>0.6</td>\n      <td>1.0</td>\n      <td>0.222222</td>\n      <td>0.0</td>\n      <td>1.000</td>\n      <td>1.0</td>\n      <td>0.0</td>\n      <td>1.0</td>\n      <td>0.000000</td>\n      <td>...</td>\n      <td>0.666667</td>\n      <td>0.875</td>\n      <td>0.875</td>\n      <td>0.0</td>\n      <td>0.666667</td>\n      <td>0.5</td>\n      <td>0.0</td>\n      <td>0.875</td>\n      <td>0.8</td>\n      <td>0.333333</td>\n    </tr>\n  </tbody>\n</table>\n<p>5 rows × 23 columns</p>\n</div>"
     },
     "metadata": {},
     "execution_count": 196
    }
   ],
   "source": [
    "test.sample(5)"
   ]
  },
  {
   "source": [
    "### Addestramento"
   ],
   "cell_type": "markdown",
   "metadata": {}
  },
  {
   "cell_type": "code",
   "execution_count": 197,
   "metadata": {},
   "outputs": [],
   "source": [
    "x_train = train.drop([\"class\"], axis=1)\n",
    "y_train = train[\"class\"]\n",
    "\n",
    "x_test = test.drop([\"class\"], axis=1)\n",
    "y_test = test[\"class\"]"
   ]
  },
  {
   "cell_type": "code",
   "execution_count": 198,
   "metadata": {},
   "outputs": [
    {
     "output_type": "stream",
     "name": "stdout",
     "text": [
      "Accuracy on test set: 1.000\n"
     ]
    }
   ],
   "source": [
    "from sklearn.tree import DecisionTreeClassifier\n",
    "tree = DecisionTreeClassifier(criterion = 'entropy')\n",
    "tree.fit(x_train, y_train)\n",
    "\n",
    "print(\"Accuracy on test set: {:.3f}\".format(tree.score(x_test, y_test)))"
   ]
  }
 ]
}